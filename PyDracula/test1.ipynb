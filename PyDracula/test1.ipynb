{
 "cells": [
  {
   "cell_type": "code",
   "execution_count": 2,
   "id": "b400f1c8",
   "metadata": {},
   "outputs": [
    {
     "name": "stdout",
     "output_type": "stream",
     "text": [
      "           위도          경도                  이미지 경로\n",
      "0   35.033959  126.502828  202508290304104386.jpg\n",
      "1   35.032382  126.498772  202508290304051120.jpg\n",
      "2   35.032054  126.497671  202508290304003370.jpg\n",
      "3   35.007876  126.492143  202508290303566718.jpg\n",
      "4   35.007526  126.492201  202508290303517356.jpg\n",
      "5   35.005350  126.492555  202508290303463804.jpg\n",
      "6   35.004541  126.492684  202508290303431137.jpg\n",
      "7   35.002977  126.492939  202508290303385848.jpg\n",
      "8   35.002556  126.493007  202508290303330071.jpg\n",
      "9   34.979428  126.494993  202508290303282379.jpg\n",
      "10  34.961484  126.500222  202508290303234668.jpg\n",
      "11  34.959923  126.500787  202508290303183021.jpg\n",
      "12  34.958380  126.501387  202508290303133528.jpg\n",
      "13  34.943680  126.504092  202508290303088471.jpg\n",
      "14  34.941984  126.503453  202508290303049770.jpg\n",
      "15  34.940239  126.502800  202508290303002955.jpg\n",
      "16  34.926745  126.498457  202508290302534067.jpg\n",
      "17  34.925928  126.498386  202508290302501281.jpg\n",
      "18  34.922255  126.498382  202508290302450811.jpg\n",
      "19  34.921445  126.498398  202508290302416643.jpg\n",
      "20  34.915512  126.498575  202508290302389583.jpg\n",
      "21  34.914701  126.498629  202508290302330683.jpg\n",
      "22  34.885834  126.497144  202508290302281215.jpg\n",
      "23  34.886631  126.497356  202508290302249019.jpg\n",
      "24  34.887425  126.497570  202508290302205344.jpg\n"
     ]
    }
   ],
   "source": [
    "import pandas as pd\n",
    "\n",
    "df = pd.read_excel(r\"C:\\Users\\sssuo\\OneDrive\\바탕 화면\\Mapping_Demo\\PyDracula\\init\\data\\data.xlsx\")\n",
    "\n",
    "print(df)"
   ]
  },
  {
   "cell_type": "code",
   "execution_count": 3,
   "id": "1060c1a1",
   "metadata": {},
   "outputs": [
    {
     "name": "stdout",
     "output_type": "stream",
     "text": [
      "[{'name': '항목 0', 'image_path': '202508290304104386.jpg', 'latitude': 35.0339588, 'longitude': 126.5028282}, {'name': '항목 1', 'image_path': '202508290304051120.jpg', 'latitude': 35.0323817, 'longitude': 126.4987719}, {'name': '항목 2', 'image_path': '202508290304003370.jpg', 'latitude': 35.0320539, 'longitude': 126.4976715}, {'name': '항목 3', 'image_path': '202508290303566718.jpg', 'latitude': 35.007876, 'longitude': 126.4921433}, {'name': '항목 4', 'image_path': '202508290303517356.jpg', 'latitude': 35.0075259, 'longitude': 126.4922013}, {'name': '항목 5', 'image_path': '202508290303463804.jpg', 'latitude': 35.0053503, 'longitude': 126.4925551}, {'name': '항목 6', 'image_path': '202508290303431137.jpg', 'latitude': 35.0045414, 'longitude': 126.492684}, {'name': '항목 7', 'image_path': '202508290303385848.jpg', 'latitude': 35.0029766, 'longitude': 126.4929393}, {'name': '항목 8', 'image_path': '202508290303330071.jpg', 'latitude': 35.0025564, 'longitude': 126.4930074}, {'name': '항목 9', 'image_path': '202508290303282379.jpg', 'latitude': 34.979428, 'longitude': 126.4949926}, {'name': '항목 10', 'image_path': '202508290303234668.jpg', 'latitude': 34.9614843, 'longitude': 126.5002216}, {'name': '항목 11', 'image_path': '202508290303183021.jpg', 'latitude': 34.959923, 'longitude': 126.5007865}, {'name': '항목 12', 'image_path': '202508290303133528.jpg', 'latitude': 34.9583799, 'longitude': 126.5013869}, {'name': '항목 13', 'image_path': '202508290303088471.jpg', 'latitude': 34.9436804, 'longitude': 126.5040921}, {'name': '항목 14', 'image_path': '202508290303049770.jpg', 'latitude': 34.9419842, 'longitude': 126.5034526}, {'name': '항목 15', 'image_path': '202508290303002955.jpg', 'latitude': 34.940239, 'longitude': 126.5028002}, {'name': '항목 16', 'image_path': '202508290302534067.jpg', 'latitude': 34.9267453, 'longitude': 126.4984571}, {'name': '항목 17', 'image_path': '202508290302501281.jpg', 'latitude': 34.9259278, 'longitude': 126.4983859}, {'name': '항목 18', 'image_path': '202508290302450811.jpg', 'latitude': 34.9222548, 'longitude': 126.4983816}, {'name': '항목 19', 'image_path': '202508290302416643.jpg', 'latitude': 34.9214455, 'longitude': 126.4983983}, {'name': '항목 20', 'image_path': '202508290302389583.jpg', 'latitude': 34.9155115, 'longitude': 126.4985747}, {'name': '항목 21', 'image_path': '202508290302330683.jpg', 'latitude': 34.9147015, 'longitude': 126.4986292}, {'name': '항목 22', 'image_path': '202508290302281215.jpg', 'latitude': 34.885834, 'longitude': 126.4971439}, {'name': '항목 23', 'image_path': '202508290302249019.jpg', 'latitude': 34.8866306, 'longitude': 126.4973564}, {'name': '항목 24', 'image_path': '202508290302205344.jpg', 'latitude': 34.8874247, 'longitude': 126.4975703}]\n"
     ]
    }
   ],
   "source": [
    "ITEMS_DATA = []\n",
    "\n",
    "# DataFrame의 각 행을 순회하며 딕셔너리로 변환\n",
    "for index, row in df.iterrows():\n",
    "    item_dict = {\n",
    "        \"name\": f\"항목 {index}\",  \n",
    "        \"image_path\": row['이미지 경로'], \n",
    "        \"latitude\": row['위도'],\n",
    "        \"longitude\": row['경도']\n",
    "    }\n",
    "    ITEMS_DATA.append(item_dict)\n",
    "\n",
    "print(ITEMS_DATA)"
   ]
  },
  {
   "cell_type": "code",
   "execution_count": 6,
   "id": "6a875874",
   "metadata": {},
   "outputs": [
    {
     "name": "stdout",
     "output_type": "stream",
     "text": [
      "✅ 이미지가 포함된 지도가 'locations_with_images_map.html' 파일로 저장되었습니다.\n"
     ]
    }
   ],
   "source": [
    "import folium\n",
    "import os\n",
    "import base64\n",
    "\n",
    "# 지도의 중심점 계산\n",
    "if ITEMS_DATA:\n",
    "    avg_lat = sum(item['latitude'] for item in ITEMS_DATA) / len(ITEMS_DATA)\n",
    "    avg_lon = sum(item['longitude'] for item in ITEMS_DATA) / len(ITEMS_DATA)\n",
    "    map_center = [avg_lat, avg_lon]\n",
    "else:\n",
    "    map_center = [37.5665, 126.9780]\n",
    "\n",
    "# Folium 지도 객체 생성\n",
    "m = folium.Map(location=map_center, zoom_start=11)\n",
    "\n",
    "# 데이터 리스트를 순회하며 마커 추가\n",
    "for item in ITEMS_DATA:\n",
    "    # 1. 이미지 전체 경로 생성\n",
    "    image_file = item[\"image_path\"]\n",
    "    image_full_path = os.path.join(os.getcwd(), \"init\", \"data\", \"Images\", image_file)\n",
    "\n",
    "    # 2. 이미지를 Base64로 인코딩\n",
    "    if os.path.exists(image_full_path):\n",
    "        encoded = base64.b64encode(open(image_full_path, 'rb').read()).decode()\n",
    "        \n",
    "        # 3. 팝업에 들어갈 HTML 컨텐츠 생성\n",
    "        html = f\"\"\"\n",
    "        <b>{item['name']}</b><br>\n",
    "        위도: {item['latitude']:.6f}<br>\n",
    "        경도: {item['longitude']:.6f}<br><br>\n",
    "        <img src=\"data:image/jpeg;base64,{encoded}\" width=\"200\">\n",
    "        \"\"\"\n",
    "        \n",
    "        # 4. IFrame으로 HTML 컨텐츠를 감싸고 Popup 생성\n",
    "        iframe = folium.IFrame(html, width=240, height=280)\n",
    "        popup = folium.Popup(iframe)\n",
    "    else:\n",
    "        # 이미지가 없을 경우 텍스트만 표시\n",
    "        popup_text = f\"<b>{item['name']}</b><br>위도: {item['latitude']}<br>경도: {item['longitude']}<br>(이미지 없음)\"\n",
    "        popup = folium.Popup(popup_text)\n",
    "\n",
    "    # 5. 마커를 지도에 추가\n",
    "    folium.Marker(\n",
    "        location=[item['latitude'], item['longitude']],\n",
    "        popup=popup,\n",
    "        tooltip=item['name']\n",
    "    ).add_to(m)\n",
    "\n",
    "# 지도를 HTML 파일로 저장\n",
    "output_filename = 'locations_with_images_map.html'\n",
    "m.save(output_filename)\n",
    "\n",
    "print(f\"✅ 이미지가 포함된 지도가 '{output_filename}' 파일로 저장되었습니다.\")\n"
   ]
  },
  {
   "cell_type": "code",
   "execution_count": null,
   "id": "93b47e36",
   "metadata": {},
   "outputs": [],
   "source": []
  }
 ],
 "metadata": {
  "kernelspec": {
   "display_name": "ZEXIS_GUI",
   "language": "python",
   "name": "python3"
  },
  "language_info": {
   "codemirror_mode": {
    "name": "ipython",
    "version": 3
   },
   "file_extension": ".py",
   "mimetype": "text/x-python",
   "name": "python",
   "nbconvert_exporter": "python",
   "pygments_lexer": "ipython3",
   "version": "3.10.18"
  }
 },
 "nbformat": 4,
 "nbformat_minor": 5
}
